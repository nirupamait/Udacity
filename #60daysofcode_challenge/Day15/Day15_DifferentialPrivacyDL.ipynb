{
 "cells": [
  {
   "cell_type": "markdown",
   "metadata": {},
   "source": [
    "# Lesson 6 :: Differential Privacy for Deep learning\n"
   ]
  },
  {
   "cell_type": "markdown",
   "metadata": {},
   "source": [
    "# Perfect Privacy :: \n",
    "A query to the databse returns the same value, even if we remove any person from the databse.\n",
    "No person is contributing information to final query and data is protected."
   ]
  },
  {
   "cell_type": "markdown",
   "metadata": {},
   "source": [
    "Instead of querying a database , we are training a model"
   ]
  },
  {
   "cell_type": "markdown",
   "metadata": {},
   "source": [
    "# Perfect Privacy(AI model) ::\n",
    "Training a model on dataset should return the same model, even if we remove any person from the training dataset."
   ]
  },
  {
   "cell_type": "markdown",
   "metadata": {},
   "source": [
    "So, we have repplaced querying a dataset with training a model on dataset."
   ]
  },
  {
   "cell_type": "markdown",
   "metadata": {},
   "source": [
    "# Training process is actually a kind of query::\n",
    "a)Do we always know whether people are referenced in tha db?\n",
    "b)Neural models rarely ever train to the same location, even when trained on the same dataset."
   ]
  },
  {
   "cell_type": "raw",
   "metadata": {},
   "source": [
    "Lets take scenario..You work for hospital and you have large collection of images about your patients.You would like to develop neural network which can automatically classify them.Since images are not labeled, they are not sufficient to train a classifier.\n",
    "You will reach out to neighbor hospitals, which have annonated data.\n",
    "These hospitals are helping but they have privacy concern regarding their own patients.\n",
    "Thus, you will use following technique to train a classifier which protects the privacy\n",
    "of the patients in the other hospitals.\n",
    "-->Ask each hospital to train a model on their own dataset, so generating 10 different models.\n",
    "-->Use each model to protect on your own local dataset, generating 10 labels for each data point.\n",
    "-->Perform a DP query to generate the final DP label for each data point.This query will be max function, where max is the most frequent label across the 10 labels for each individual image.We then need to add Laplacian noise to make this differentially private\n",
    "to a certain epsilon delta constraint.\n",
    "-->Finally we retrain a new model on our local dataset, which now has these labels that we have automatically generated.\n"
   ]
  },
  {
   "cell_type": "markdown",
   "metadata": {},
   "source": [
    "# Ques\n",
    "\"querying a database\" is equivalent to \"training a model on a dataset\".\n",
    "But training adds two points of complexity which database queries did not have:\n",
    "1.do we always know where \"people\" are referenced in the dataset?\n",
    "\n",
    "What does this mean?\n",
    "As per me, in case of querying dataset, there is no need of knowing people postions.Every row corresponds to a person .\n",
    "But in case of training model, we should localize the people position or should know where people are getting referenced.\n",
    "Can any one give any comment?"
   ]
  },
  {
   "cell_type": "raw",
   "metadata": {},
   "source": [
    "# Ans\n",
    "Nawal \n",
    "This is right when labels are people identities. But what if labels are the pieces those describe the data? e.g: MINIST dataset where the labels are 0 1 2  ...etc.\n",
    "\n",
    "sourav kumar  \n",
    "Labels can be anything like we saw in hospital example as there the labels are not only representation of particular individual  but each datapoint in the dataset represents the what different hospitals think about the particular image , so again in each hospital , there would be thousands of individual's data involved.\n",
    "so, it gets deeper and deeper. (edited)"
   ]
  },
  {
   "cell_type": "code",
   "execution_count": null,
   "metadata": {},
   "outputs": [],
   "source": []
  }
 ],
 "metadata": {
  "kernelspec": {
   "display_name": "Python 3",
   "language": "python",
   "name": "python3"
  },
  "language_info": {
   "codemirror_mode": {
    "name": "ipython",
    "version": 3
   },
   "file_extension": ".py",
   "mimetype": "text/x-python",
   "name": "python",
   "nbconvert_exporter": "python",
   "pygments_lexer": "ipython3",
   "version": "3.5.5"
  },
  "widgets": {
   "state": {},
   "version": "1.1.2"
  }
 },
 "nbformat": 4,
 "nbformat_minor": 2
}
