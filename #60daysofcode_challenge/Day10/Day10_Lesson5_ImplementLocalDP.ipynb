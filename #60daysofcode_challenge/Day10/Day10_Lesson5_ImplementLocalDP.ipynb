{
 "cells": [
  {
   "cell_type": "markdown",
   "metadata": {},
   "source": [
    "# Lesson 5:Project Intro Varying The amount of noise"
   ]
  },
  {
   "cell_type": "markdown",
   "metadata": {},
   "source": [
    "Augment the randomized response query from the previous project to allow for varying amount of randomness to be added."
   ]
  },
  {
   "cell_type": "markdown",
   "metadata": {},
   "source": [
    "eg:: I want you to be able to bias the first coin flip to be higher or lower probabilty of outputting a one\n",
    "and then run the same experiment."
   ]
  },
  {
   "cell_type": "markdown",
   "metadata": {},
   "source": [
    "# Varying the amount of noise::\n",
    "1)Add a new parameter to the query function.It will now accept the databse and some noise parameter which is a \t%.\n",
    "The noise parameter should change is how likely for the first coin to be a one as opposed to zero.\n",
    "2)Properly re-balance the results of query given this adjustable parameter."
   ]
  },
  {
   "cell_type": "raw",
   "metadata": {},
   "source": [
    "In the above query, we will add one more parameter.The extra feature is that first coin flip to be arbitrarily more or less\n",
    "likely to be heads.How to reskew the output of mean query later"
   ]
  },
  {
   "cell_type": "code",
   "execution_count": 1,
   "metadata": {},
   "outputs": [
    {
     "data": {
      "text/plain": [
       "tensor([0, 1, 0,  ..., 0, 1, 0], dtype=torch.uint8)"
      ]
     },
     "execution_count": 1,
     "metadata": {},
     "output_type": "execute_result"
    }
   ],
   "source": [
    "import torch\n",
    "\n",
    "# the number of entries in our database\n",
    "num_entries = 5000\n",
    "\n",
    "db = torch.rand(num_entries) > 0.5\n",
    "db"
   ]
  },
  {
   "cell_type": "code",
   "execution_count": 2,
   "metadata": {},
   "outputs": [],
   "source": [
    "def get_parallel_db(db, remove_index):\n",
    "\n",
    "    return torch.cat((db[0:remove_index], \n",
    "                      db[remove_index+1:]))"
   ]
  },
  {
   "cell_type": "code",
   "execution_count": 3,
   "metadata": {},
   "outputs": [],
   "source": [
    "def get_parallel_dbs(db):\n",
    "\n",
    "    parallel_dbs = list()\n",
    "\n",
    "    for i in range(len(db)):\n",
    "        pdb = get_parallel_db(db, i)\n",
    "        parallel_dbs.append(pdb)\n",
    "    \n",
    "    return parallel_dbs"
   ]
  },
  {
   "cell_type": "code",
   "execution_count": 4,
   "metadata": {},
   "outputs": [],
   "source": [
    "def create_db_and_parallels(num_entries):\n",
    "    \n",
    "    db = torch.rand(num_entries) > 0.5\n",
    "    pdbs = get_parallel_dbs(db)\n",
    "    \n",
    "    return db, pdbs"
   ]
  },
  {
   "cell_type": "markdown",
   "metadata": {},
   "source": [
    "# Project: Varying Amounts of Noise"
   ]
  },
  {
   "cell_type": "raw",
   "metadata": {},
   "source": [
    "In this project, I want you to augment the randomized response query (the one we just wrote) to allow for varying amounts of randomness to be added. Specifically, I want you to bias the coin flip to be higher or lower and then run the same experiment."
   ]
  },
  {
   "cell_type": "code",
   "execution_count": 5,
   "metadata": {},
   "outputs": [],
   "source": [
    "def query(db, noise=0.2):\n",
    "    \n",
    "    true_result = torch.mean(db.float())\n",
    "\n",
    "    first_coin_flip = (torch.rand(len(db)) < noise).float()\n",
    "    second_coin_flip = (torch.rand(len(db)) < 0.5).float()\n",
    "\n",
    "    augmented_database = db.float() * first_coin_flip + (1 - first_coin_flip) * second_coin_flip\n",
    "\n",
    "    sk_result = augmented_database.float().mean()\n",
    "\n",
    "    private_result = ((sk_result / noise) - 0.5) * noise / (1 - noise)\n",
    "\n",
    "    return private_result, true_result"
   ]
  },
  {
   "cell_type": "markdown",
   "metadata": {},
   "source": [
    "# Explanation of de-skewing of an augmented database"
   ]
  },
  {
   "cell_type": "raw",
   "metadata": {},
   "source": [
    "Wrote a post to explain the de-skewing of an augmented database as done in the lesson, but somehow put in wrong channel. Hope it helps (https://secureprivataischolar.slack.com/archives/CJS6LLE2J/p1561918974233900)\n",
    "Abhishek Tandon\n",
    "Hello, I wrote this post to help with the 'deskewing' part. Please go through it and let me know your thoughts on it. I can also try and create a medium post for this.\n",
    "\n",
    "*De-skewing Augmented Database*\n",
    "\n",
    "A ‘1’ in the augmented database means that the data owners have jaywalked and ‘0’ means that data owners haven’t jaywalked. So probability that a person has jaywalked would be = `(no. of people who have jaywalked / total no. of people)` , this can be found out by using the code = `(np.count_nonzero(db)/len(db))`\n",
    "\n",
    "But since we don’t have access to the true database, we need to somehow arrive to the true value using our augmented values.\n",
    "\n",
    "As `augmented_db = db* first_coin_flip + (1-first_coin_flip)* second_coin_flip`\n",
    "`P(augmented_db == 1) = P(true_db == 1) * P(first_coin_flip == 1) + (1 – P(first_coin_flip==1)) * P(second_coin_flip==1)`\n",
    "\n",
    "For assigning values, we take the example given in course, where\n",
    "`P(augmented_db == 1) = 0.6` and `P(true_db) == p` (where the value of p is 0.7 but we don’t know it yet)\n",
    "`P(first_coin_flip == 1) = 0.5` and `P(second_coin_flip == 1) = 0.5` , since we are using unbiased coins.\n",
    "```==> 0.6 = 0.5 * p + 0.5* 0.5 \n",
    "==> 0.6 = 0.5 * (p + 0.5) \n",
    "==> 0.6 / 0.5 = (p + 0.5)\n",
    "==> 2*0.6 = p + 0.5 \n",
    "==> 1.2 – 0.5 = p\n",
    "==> p = 0.7, the probability that a person has jaywalked in true_db```\n",
    "\n",
    "We can arrive at the true result only in cases when the dataset is very large so that the effect of the randomness is minimal in de-skewing.\n",
    "\n",
    "*But what if the coins we are using were biased?*\n",
    "\n",
    "In such a case, P(coin_flip == 1) would not be 0.5 but some other value which depends on the noise.\n",
    "We initialize the first coin by using (equation taken from solution notebook on Github Udacity repository): `first_coin_flip = (torch.rand(len(db)) < noise).float()`\n",
    "\n",
    "Let noise be 0.9, then if a random number is in the range [0,0.9), then the first_coin_flip would be true (‘1’), otherwise false (‘0’). And if noise is 0.1, then if a random number is in the range [0,0.1), then the first_coin_flip would be true (‘1’), otherwise false (‘0’).\n",
    "This means the greater the noise the more chance would be there to obtain a ‘true’ value.\n",
    "\n",
    "Hence,\n",
    "`P(first_coin_flip == 1) = noise` and `P(second_coin_flip == 1) = 0.5` (using an unbiased coin for second coin flip)\n",
    "Using our previous equation:\n",
    "```P(augmented_db == 1) = P(true_db == 1) * P(first_coin_flip == 1) + (1 – P(first_coin_flip==1)) * P(second_coin_flip==1)\n",
    "\n",
    "==> P(augmented_db) = P(true_db) * noise + (1-noise)*0.5\n",
    "==> P(true_db) * noise = P(augmented_db) – (1-noise)*0.5\n",
    "==> P(true_db) = (P(augmented_db) – (1-noise)*0.5) / noise```\n",
    "\n",
    "I hope this clarifies the de-skewing procedure. \n"
   ]
  },
  {
   "cell_type": "markdown",
   "metadata": {},
   "source": [
    "# Ques::\n",
    "As per your formula::\n",
    "P(true_db) = (P(augmented_db) – (1-noise)*0.5) / noise\n",
    "\n",
    "If i co-relate it with given in lesson mentioned below::\n",
    "private_result = ((sk_result / noise) - 0.5) * noise / (1 - noise)\n",
    "\n",
    "private_result means true_db\n",
    "sk_result   means augmented_db\n",
    "Is it ok?\n",
    "\n",
    "According to me these results of your formula P(true_db) and private_result are not matching, when i solve them.\n",
    "Can you please help me?"
   ]
  },
  {
   "cell_type": "markdown",
   "metadata": {},
   "source": [
    "# Ans::\n",
    "@Nirupama Singh I took the formula for defining the first coin flip with varying amount of noise as given in the solution notebook here https://github.com/udacity/private-ai/blob/master/completed/Section%201%20-%20Differential%20Privacy.ipynb\n",
    "After that I tries to explain how to then de-skew the result and the formula on which I arrived was same as that given in the notebook.\n",
    "Indeed my formula is different from that in the lectures. This is because Andrew changed the way he was defining noise in between lecture and that is why the result is not same as the one in the lecture videos. To read more on this follow this thread: https://secureprivataischolar.slack.com/archives/CJCJJQ42W/p1562259776379800?thread_ts=1562254071.366600&cid=CJCJJQ42W (edited)\n",
    "Henrique Mello\n",
    "@Sumanyu Rosha This is the biggest problem in the videos I found so far. Your de-skewing is correct. The  lecture's equation is also correct if you change the definition of what noise is. First, Andrew uses noise as the probability of the coin landing heads. However, when he goes to the de-skewing part, he changes the definition out of the blue and now noise becomes the probability of the coin landing heads. To check that this is what is happening, consider this:\n",
    "\n",
    "If H is the probability of landing heads, the probability of landing tails is (1 - H), right? So if the coin has 70% of probability of landing heads, it has 30% of landing tails. Now, this is the definitino he used first.\n",
    "\n",
    "hence\n",
    "`P(augmented_db) = P(true_db) * H + 0.5 * (1 - H)       Eq.1`\n",
    "If you define H as noise, than the equation is the same you posted.\n",
    "\n",
    "As I said before, Andrew changes the definition. He uses noise as the probability of the coin landing tails, T. That is, the equation to P(augmented_db) is now:\n",
    "`P(augmented_db) = P(true_db)*(1 - T) + 0.5*T       Eq.2`\n",
    "Here I made use of the fact that `prob of landing heads = H = (1 - T)` and `prob of landing tails = T = (1 - H)`.\n",
    "\n",
    "Now if we take Eq.2 (which is the one Andrew used in the last equation you wrote) and say that `noise = T`,\n",
    "\n",
    "`P(aug_db) = P(true_db) * (1 - noise) + 0.5*noise    Eq. 3`\n",
    "\n",
    "From Eq.3 you can find the last equation you wrote.\n",
    "\n",
    "\n",
    "\n"
   ]
  },
  {
   "cell_type": "raw",
   "metadata": {},
   "source": [
    "As we increase noise, the difference between avg quite getting more.\n",
    "But with large dataset, they is not much diff.The large datasset allows u more privacy protection to indiduals\n",
    "inside dataset .\n",
    "The larger dataset, more noise you can add with more accuracy"
   ]
  },
  {
   "cell_type": "code",
   "execution_count": null,
   "metadata": {},
   "outputs": [],
   "source": []
  }
 ],
 "metadata": {
  "kernelspec": {
   "display_name": "Python 3",
   "language": "python",
   "name": "python3"
  },
  "language_info": {
   "codemirror_mode": {
    "name": "ipython",
    "version": 3
   },
   "file_extension": ".py",
   "mimetype": "text/x-python",
   "name": "python",
   "nbconvert_exporter": "python",
   "pygments_lexer": "ipython3",
   "version": "3.5.5"
  },
  "widgets": {
   "state": {},
   "version": "1.1.2"
  }
 },
 "nbformat": 4,
 "nbformat_minor": 2
}
