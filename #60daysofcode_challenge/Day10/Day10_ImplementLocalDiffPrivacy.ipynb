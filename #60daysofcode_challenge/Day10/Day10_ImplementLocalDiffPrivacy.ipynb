{
 "cells": [
  {
   "cell_type": "markdown",
   "metadata": {},
   "source": [
    "# Implement Local Differential Privacy"
   ]
  },
  {
   "cell_type": "markdown",
   "metadata": {},
   "source": [
    "# Quest::\n",
    "I have doubt in below query::\n",
    "def query(db):\n",
    "\n",
    "    true_result = torch.mean(db.float())\n",
    "    \n",
    "    first_coin_flip = (torch.rand(len(db)) < 0.5).float()\n",
    "    second_coin_flip = (torch.rand(len(db)) < 0.5).float()\n",
    "\n",
    "    augmented_database = db.float() * first_coin_flip + (1 - first_coin_flip) * second_coin_flip\n",
    "\n",
    "    db_result = torch.mean(augmented_database.float()) * 2 - 0.5\n",
    "    \n",
    "    return db_result, true_result\n",
    "\t\n",
    "\t\n",
    "db, pdbs = create_db_and_parallels(10)\n",
    "private_result, true_result = query(db)\n",
    "print(\"With Noise:\" + str(private_result))\n",
    "print(\"Without Noise:\" + str(true_result))\n",
    "\n",
    "My doubt:: torch.mean(augmented_database.float()) is already noised, then why are we deskewing by below formula::\n",
    "torch.mean(augmented_database.float()) * 2 - 0.5\n",
    "\n",
    "Can anyone please help me?"
   ]
  },
  {
   "cell_type": "markdown",
   "metadata": {},
   "source": [
    "# Ans::\n",
    "Oluwarotimi Adesina \n",
    "We are de-skewing because of the noise\n",
    "\n",
    "Oluwarotimi Adesina \n",
    "The noise skews the accuracy of the result obtained.\n",
    "\n",
    "Oluwarotimi Adesina  \n",
    "so to get closer to the original accuracy i.e accuracy without noise, we need to de-skew it.\n",
    "\n",
    "Nirupama Singh  \n",
    "@Oluwarotimi Adesina Bu as per question, we need to comapre mean of noisy vs without noisy db.Here, noisy db means mean of augmented db.Then why do we need to de-skew, if want noisy result?\n",
    "\n",
    "Sadmi Bouhafs  \n",
    "If I get your question: We are deskewing to the result without the noise and compare it with the true db result (edited)\n",
    "\n",
    "Nirupama Singh  \n",
    "@Sadmi Bouhafs :: Here the code is like this ::                                                                                db, pdbs = create_db_and_parallels(10)\n",
    "private_result, true_result = query(db)\n",
    "print(\"With Noise:\" + str(private_result))\n",
    "print(\"Without Noise:\" + str(true_result))        We are printing \"With noise\" information.Then i think, we should not de-skew?\n",
    "\n",
    "Oluwarotimi Adesina  \n",
    "We need to deskew because we cannot actually get the mean without noisy @Nirupama Singh. So de-skewing is practically how we get the mean without noise.\n",
    "\n",
    "Sadmi Bouhafs  \n",
    "@Nirupama Singh We don't need the result with the noise, we just need that the noise stays in the database so no one can leak the privacy, but we need the result which is real and not skewed because of that we deskew\n",
    "\n",
    "Abhishek Tandon  \n",
    "@Nirupama Singh The goal of plausible deniability was to add randomness so that the privacy of participants is protected and at the same time we are able to statistical analysis on the database. In this case we are trying to calculate mean of the database as statistical analysis.\n",
    "As we know that the dataset we obtained has some noise in it, to reach to the true result we de-skew the result.\n",
    "\n",
    "\n",
    "Sadmi Bouhafs \n",
    "@Nirupama Singh\n",
    "By this code\n",
    "`print(\"With Noise:\" + str(private_result))`\n",
    "`print(\"Without Noise:\" + str(true_result))`\n",
    "\n",
    "They mean just a result calculated from a database that have a noise and the original that don't have a noise (edited)"
   ]
  },
  {
   "cell_type": "markdown",
   "metadata": {},
   "source": [
    "# As database size increase, the result of difference in query becomes less."
   ]
  },
  {
   "cell_type": "markdown",
   "metadata": {},
   "source": [
    "# Local Differential privacy more data hungry compared to Global DP."
   ]
  },
  {
   "cell_type": "code",
   "execution_count": null,
   "metadata": {},
   "outputs": [],
   "source": []
  }
 ],
 "metadata": {
  "kernelspec": {
   "display_name": "Python 3",
   "language": "python",
   "name": "python3"
  },
  "language_info": {
   "codemirror_mode": {
    "name": "ipython",
    "version": 3
   },
   "file_extension": ".py",
   "mimetype": "text/x-python",
   "name": "python",
   "nbconvert_exporter": "python",
   "pygments_lexer": "ipython3",
   "version": "3.5.5"
  },
  "widgets": {
   "state": {},
   "version": "1.1.2"
  }
 },
 "nbformat": 4,
 "nbformat_minor": 2
}
